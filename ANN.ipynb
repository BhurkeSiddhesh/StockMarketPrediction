{
 "cells": [
  {
   "cell_type": "code",
   "execution_count": 1,
   "metadata": {},
   "outputs": [],
   "source": [
    "import numpy as np # linear algebra\n",
    "import pandas as pd # data processing, CSV file I/O (e.g. pd.read_csv)\n",
    "import tensorflow as tf\n",
    "from tensorflow import keras\n",
    "from sklearn.preprocessing import normalize\n",
    "import pickle\n",
    "from sklearn.model_selection import train_test_split\n",
    "import datetime\n",
    "import os\n",
    "import subprocess\n",
    "import sys\n",
    "import matplotlib.pyplot as plt\n",
    "from sklearn.preprocessing import MinMaxScaler"
   ]
  },
  {
   "cell_type": "code",
   "execution_count": 2,
   "metadata": {},
   "outputs": [],
   "source": [
    "mkt_df = pd.read_excel(\"ICICIBANK - Modified.xlsx\")"
   ]
  },
  {
   "cell_type": "code",
   "execution_count": 3,
   "metadata": {},
   "outputs": [],
   "source": [
    "mkt_df['Date'] = pd.to_datetime(mkt_df['Date']).astype('int64')"
   ]
  },
  {
   "cell_type": "code",
   "execution_count": 4,
   "metadata": {},
   "outputs": [
    {
     "data": {
      "text/html": [
       "<div>\n",
       "<style scoped>\n",
       "    .dataframe tbody tr th:only-of-type {\n",
       "        vertical-align: middle;\n",
       "    }\n",
       "\n",
       "    .dataframe tbody tr th {\n",
       "        vertical-align: top;\n",
       "    }\n",
       "\n",
       "    .dataframe thead th {\n",
       "        text-align: right;\n",
       "    }\n",
       "</style>\n",
       "<table border=\"1\" class=\"dataframe\">\n",
       "  <thead>\n",
       "    <tr style=\"text-align: right;\">\n",
       "      <th></th>\n",
       "      <th>Open</th>\n",
       "      <th>High</th>\n",
       "      <th>Low</th>\n",
       "      <th>Close</th>\n",
       "      <th>Adj Close</th>\n",
       "      <th>Volume</th>\n",
       "    </tr>\n",
       "    <tr>\n",
       "      <th>Date</th>\n",
       "      <th></th>\n",
       "      <th></th>\n",
       "      <th></th>\n",
       "      <th></th>\n",
       "      <th></th>\n",
       "      <th></th>\n",
       "    </tr>\n",
       "  </thead>\n",
       "  <tbody>\n",
       "    <tr>\n",
       "      <th>1025481600000000000</th>\n",
       "      <td>25.454500</td>\n",
       "      <td>25.818199</td>\n",
       "      <td>24.818199</td>\n",
       "      <td>25.127300</td>\n",
       "      <td>6.023036</td>\n",
       "      <td>2047540.0</td>\n",
       "    </tr>\n",
       "    <tr>\n",
       "      <th>1025568000000000000</th>\n",
       "      <td>26.727301</td>\n",
       "      <td>27.636400</td>\n",
       "      <td>25.236401</td>\n",
       "      <td>26.745399</td>\n",
       "      <td>6.410896</td>\n",
       "      <td>5546354.0</td>\n",
       "    </tr>\n",
       "    <tr>\n",
       "      <th>1025654400000000000</th>\n",
       "      <td>28.181801</td>\n",
       "      <td>28.181801</td>\n",
       "      <td>26.645500</td>\n",
       "      <td>28.090900</td>\n",
       "      <td>6.733414</td>\n",
       "      <td>5745267.0</td>\n",
       "    </tr>\n",
       "    <tr>\n",
       "      <th>1025740800000000000</th>\n",
       "      <td>27.090900</td>\n",
       "      <td>28.799999</td>\n",
       "      <td>27.036400</td>\n",
       "      <td>27.390900</td>\n",
       "      <td>6.565624</td>\n",
       "      <td>3896602.0</td>\n",
       "    </tr>\n",
       "    <tr>\n",
       "      <th>1025827200000000000</th>\n",
       "      <td>27.881800</td>\n",
       "      <td>27.863600</td>\n",
       "      <td>26.945400</td>\n",
       "      <td>27.672701</td>\n",
       "      <td>6.633172</td>\n",
       "      <td>3261038.0</td>\n",
       "    </tr>\n",
       "  </tbody>\n",
       "</table>\n",
       "</div>"
      ],
      "text/plain": [
       "                          Open       High        Low      Close  Adj Close  \\\n",
       "Date                                                                         \n",
       "1025481600000000000  25.454500  25.818199  24.818199  25.127300   6.023036   \n",
       "1025568000000000000  26.727301  27.636400  25.236401  26.745399   6.410896   \n",
       "1025654400000000000  28.181801  28.181801  26.645500  28.090900   6.733414   \n",
       "1025740800000000000  27.090900  28.799999  27.036400  27.390900   6.565624   \n",
       "1025827200000000000  27.881800  27.863600  26.945400  27.672701   6.633172   \n",
       "\n",
       "                        Volume  \n",
       "Date                            \n",
       "1025481600000000000  2047540.0  \n",
       "1025568000000000000  5546354.0  \n",
       "1025654400000000000  5745267.0  \n",
       "1025740800000000000  3896602.0  \n",
       "1025827200000000000  3261038.0  "
      ]
     },
     "execution_count": 4,
     "metadata": {},
     "output_type": "execute_result"
    }
   ],
   "source": [
    "mkt_df.set_index('Date').head()"
   ]
  },
  {
   "cell_type": "code",
   "execution_count": 5,
   "metadata": {},
   "outputs": [],
   "source": [
    "mkt_df = mkt_df.dropna()"
   ]
  },
  {
   "cell_type": "code",
   "execution_count": 6,
   "metadata": {},
   "outputs": [],
   "source": [
    "def normalizeY(ydf):\n",
    "    ydf = (ydf + 1) / 2\n",
    "    return ydf"
   ]
  },
  {
   "cell_type": "code",
   "execution_count": 7,
   "metadata": {},
   "outputs": [
    {
     "data": {
      "text/plain": [
       "(4054, 7)"
      ]
     },
     "execution_count": 7,
     "metadata": {},
     "output_type": "execute_result"
    }
   ],
   "source": [
    "mkt_df.shape"
   ]
  },
  {
   "cell_type": "markdown",
   "metadata": {},
   "source": [
    "# Train and Test"
   ]
  },
  {
   "cell_type": "code",
   "execution_count": 8,
   "metadata": {},
   "outputs": [],
   "source": [
    "train = mkt_df[0:3500]\n",
    "test = mkt_df[3501:4093]"
   ]
  },
  {
   "cell_type": "code",
   "execution_count": 9,
   "metadata": {},
   "outputs": [
    {
     "name": "stdout",
     "output_type": "stream",
     "text": [
      "                  Date       Open       High        Low      Close  Adj Close  \\\n",
      "0  1025481600000000000  25.454500  25.818199  24.818199  25.127300   6.023036   \n",
      "1  1025568000000000000  26.727301  27.636400  25.236401  26.745399   6.410896   \n",
      "2  1025654400000000000  28.181801  28.181801  26.645500  28.090900   6.733414   \n",
      "3  1025740800000000000  27.090900  28.799999  27.036400  27.390900   6.565624   \n",
      "4  1025827200000000000  27.881800  27.863600  26.945400  27.672701   6.633172   \n",
      "\n",
      "      Volume  \n",
      "0  2047540.0  \n",
      "1  5546354.0  \n",
      "2  5745267.0  \n",
      "3  3896602.0  \n",
      "4  3261038.0                        Date        Open        High         Low       Close  \\\n",
      "3575  1477440000000000000  252.182007  258.591003  251.817993  253.091003   \n",
      "3576  1477526400000000000  256.364014  259.091003  250.000000  258.454987   \n",
      "3577  1477612800000000000  254.044998  256.817993  250.500000  251.682007   \n",
      "3578  1477958400000000000  245.455002  254.317993  249.544998  250.317993   \n",
      "3579  1478044800000000000  247.272995  248.408997  244.317993  247.182007   \n",
      "\n",
      "       Adj Close      Volume  \n",
      "3575  245.142365  30017739.0  \n",
      "3576  250.337860  19868027.0  \n",
      "3577  243.777603  18314126.0  \n",
      "3578  242.456436  11675305.0  \n",
      "3579  239.418945  15140657.0  \n"
     ]
    }
   ],
   "source": [
    "train.columns\n",
    "print(train[:5],test[:5])"
   ]
  },
  {
   "cell_type": "markdown",
   "metadata": {},
   "source": [
    "# X-Y Split"
   ]
  },
  {
   "cell_type": "code",
   "execution_count": 10,
   "metadata": {},
   "outputs": [
    {
     "name": "stdout",
     "output_type": "stream",
     "text": [
      "(3500, 6) (3500, 1) (553, 6) (553, 1)\n"
     ]
    }
   ],
   "source": [
    "x_train = train[['Date', 'High', 'Low', 'Close', 'Adj Close', 'Volume']]\n",
    "y_train = train[['Open']]\n",
    "x_test = test[['Date', 'High', 'Low', 'Close', 'Adj Close', 'Volume']]\n",
    "y_test = test[['Open']]\n",
    "\n",
    "print(x_train.shape, y_train.shape, x_test.shape, y_test.shape)"
   ]
  },
  {
   "cell_type": "markdown",
   "metadata": {},
   "source": [
    "# MinMaxScaler"
   ]
  },
  {
   "cell_type": "code",
   "execution_count": 11,
   "metadata": {},
   "outputs": [],
   "source": [
    "scaler = MinMaxScaler(feature_range=(0, 1))\n"
   ]
  },
  {
   "cell_type": "code",
   "execution_count": 12,
   "metadata": {},
   "outputs": [],
   "source": [
    "X_train = scaler.fit_transform(x_train)\n",
    "Y_train = scaler.fit_transform(y_train)\n",
    "X_test = scaler.fit_transform(x_test)\n",
    "Y_test = scaler.fit_transform(y_test)"
   ]
  },
  {
   "cell_type": "markdown",
   "metadata": {},
   "source": [
    "# Shapes"
   ]
  },
  {
   "cell_type": "code",
   "execution_count": 13,
   "metadata": {},
   "outputs": [
    {
     "name": "stdout",
     "output_type": "stream",
     "text": [
      "(3500, 6) (3500, 1) (553, 6) (553, 1)\n"
     ]
    }
   ],
   "source": [
    "print(X_train.shape, Y_train.shape, X_test.shape, Y_test.shape)"
   ]
  },
  {
   "cell_type": "code",
   "execution_count": 14,
   "metadata": {},
   "outputs": [
    {
     "name": "stdout",
     "output_type": "stream",
     "text": [
      "[[0.01580476]\n",
      " [0.01968687]\n",
      " [0.02412317]\n",
      " ...\n",
      " [0.70414503]\n",
      " [0.71218799]\n",
      " [0.74005327]]\n"
     ]
    }
   ],
   "source": [
    "print(Y_train)"
   ]
  },
  {
   "cell_type": "markdown",
   "metadata": {},
   "source": [
    "# Model - ANN\n"
   ]
  },
  {
   "cell_type": "code",
   "execution_count": 15,
   "metadata": {},
   "outputs": [
    {
     "name": "stderr",
     "output_type": "stream",
     "text": [
      "Using TensorFlow backend.\n"
     ]
    }
   ],
   "source": [
    "import tensorflow as tf\n",
    "import keras as k"
   ]
  },
  {
   "cell_type": "code",
   "execution_count": 16,
   "metadata": {},
   "outputs": [],
   "source": [
    "def build_model(lre):\n",
    "    model = k.Sequential()\n",
    "    model.add(k.layers.Dense(units=128, activation='relu',input_dim = 6))\n",
    "    model.add(k.layers.Dense(units = 1024, activation = 'relu'))\n",
    "    model.add(k.layers.Dense(units = 2058, activation = 'relu'))\n",
    "    model.add(k.layers.Dense(units = 1024, activation = 'sigmoid'))\n",
    "    model.add(k.layers.Dense(units = 1, activation = 'linear'))\n",
    "    adam_o = k.optimizers.Adamax(lr=lre)\n",
    "    model.compile(optimizer = adam_o, loss = 'mean_squared_error', metrics=['mae'])\n",
    "    model.summary()\n",
    "    return model"
   ]
  },
  {
   "cell_type": "code",
   "execution_count": 17,
   "metadata": {},
   "outputs": [
    {
     "name": "stdout",
     "output_type": "stream",
     "text": [
      "Model: \"sequential_1\"\n",
      "_________________________________________________________________\n",
      "Layer (type)                 Output Shape              Param #   \n",
      "=================================================================\n",
      "dense_1 (Dense)              (None, 128)               896       \n",
      "_________________________________________________________________\n",
      "dense_2 (Dense)              (None, 1024)              132096    \n",
      "_________________________________________________________________\n",
      "dense_3 (Dense)              (None, 2058)              2109450   \n",
      "_________________________________________________________________\n",
      "dense_4 (Dense)              (None, 1024)              2108416   \n",
      "_________________________________________________________________\n",
      "dense_5 (Dense)              (None, 1)                 1025      \n",
      "=================================================================\n",
      "Total params: 4,351,883\n",
      "Trainable params: 4,351,883\n",
      "Non-trainable params: 0\n",
      "_________________________________________________________________\n"
     ]
    }
   ],
   "source": [
    "model = build_model(0.001)"
   ]
  },
  {
   "cell_type": "code",
   "execution_count": 18,
   "metadata": {},
   "outputs": [
    {
     "name": "stdout",
     "output_type": "stream",
     "text": [
      "Train on 3500 samples, validate on 553 samples\n",
      "Epoch 1/40\n",
      "3500/3500 [==============================] - 5s 1ms/step - loss: 0.0704 - mae: 0.2110 - val_loss: 0.2890 - val_mae: 0.4831\n",
      "Epoch 2/40\n",
      "3500/3500 [==============================] - 5s 1ms/step - loss: 0.2730 - mae: 0.4632 - val_loss: 0.0433 - val_mae: 0.1722\n",
      "Epoch 3/40\n",
      "3500/3500 [==============================] - 5s 1ms/step - loss: 0.0452 - mae: 0.1842 - val_loss: 0.0911 - val_mae: 0.3004\n",
      "Epoch 4/40\n",
      "3500/3500 [==============================] - 5s 1ms/step - loss: 0.0743 - mae: 0.2696 - val_loss: 0.1584 - val_mae: 0.3974\n",
      "Epoch 5/40\n",
      "3500/3500 [==============================] - 5s 1ms/step - loss: 0.1322 - mae: 0.3622 - val_loss: 0.0667 - val_mae: 0.2552\n",
      "Epoch 6/40\n",
      "3500/3500 [==============================] - 5s 1ms/step - loss: 0.0559 - mae: 0.2317 - val_loss: 0.0116 - val_mae: 0.0910\n",
      "Epoch 7/40\n",
      "3500/3500 [==============================] - 5s 1ms/step - loss: 0.0107 - mae: 0.0788 - val_loss: 0.0211 - val_mae: 0.1176\n",
      "Epoch 8/40\n",
      "3500/3500 [==============================] - 5s 1ms/step - loss: 0.0219 - mae: 0.1278 - val_loss: 0.0486 - val_mae: 0.1865\n",
      "Epoch 9/40\n",
      "3500/3500 [==============================] - 5s 1ms/step - loss: 0.0481 - mae: 0.1871 - val_loss: 0.0585 - val_mae: 0.2086\n",
      "Epoch 10/40\n",
      "3500/3500 [==============================] - 5s 1ms/step - loss: 0.0575 - mae: 0.2067 - val_loss: 0.0450 - val_mae: 0.1795\n",
      "Epoch 11/40\n",
      "3500/3500 [==============================] - 5s 1ms/step - loss: 0.0449 - mae: 0.1810 - val_loss: 0.0225 - val_mae: 0.1217\n",
      "Restoring model weights from the end of the best epoch\n",
      "Epoch 00011: early stopping\n"
     ]
    }
   ],
   "source": [
    "tb = k.callbacks.EarlyStopping(monitor='val_loss',  patience=5, verbose=1, restore_best_weights=True)\n",
    "history = model.fit(X_train,Y_train,batch_size=200000,epochs=40,verbose = 1, validation_data=(X_test,Y_test), callbacks=[tb])"
   ]
  },
  {
   "cell_type": "code",
   "execution_count": 19,
   "metadata": {},
   "outputs": [],
   "source": [
    "pred = model.predict(X_test)"
   ]
  },
  {
   "cell_type": "markdown",
   "metadata": {},
   "source": [
    "# Plotting Results for Test"
   ]
  },
  {
   "cell_type": "code",
   "execution_count": 20,
   "metadata": {},
   "outputs": [
    {
     "data": {
      "image/png": "[encoded data removed]",
      "text/plain": [
       "<Figure size 432x288 with 1 Axes>"
      ]
     },
     "metadata": {
      "needs_background": "light"
     },
     "output_type": "display_data"
    }
   ],
   "source": [
    "plt.plot(pred)\n",
    "plt.plot(Y_test)\n",
    "plt.show()"
   ]
  },
  {
   "cell_type": "code",
   "execution_count": 21,
   "metadata": {},
   "outputs": [],
   "source": [
    "def MAE(predictions, actual):\n",
    "    abs_err = [abs(prediction - actualVal) for prediction, actualVal in zip(predictions,actual)]\n",
    "    mae = sum(abs_err)/len(actual)\n",
    "    print(\"MAE =\" , mae)\n",
    "    return mae\n",
    "\n",
    "def rmse(predictions, targets):\n",
    "    return print(\"RMSE =\", np.sqrt(((predictions - targets) ** 2).mean()))"
   ]
  },
  {
   "cell_type": "code",
   "execution_count": 22,
   "metadata": {},
   "outputs": [
    {
     "name": "stdout",
     "output_type": "stream",
     "text": [
      "MAE = [0.09100731]\n",
      "RMSE = 0.10748339538972922\n"
     ]
    }
   ],
   "source": [
    "MAE(pred,Y_test)\n",
    "rmse(pred, Y_test)"
   ]
  },
  {
   "cell_type": "markdown",
   "metadata": {},
   "source": [
    "# Validation\n"
   ]
  },
  {
   "cell_type": "code",
   "execution_count": 23,
   "metadata": {},
   "outputs": [],
   "source": [
    "valid_data = pd.read_csv(\"valid_set_modified1.csv\")"
   ]
  },
  {
   "cell_type": "code",
   "execution_count": 24,
   "metadata": {},
   "outputs": [],
   "source": [
    "def Preprocessing(df):\n",
    "    df['Date'] = pd.to_datetime(df['Date']).astype('int64')\n",
    "    df.set_index('Date').head()\n",
    "    df = df.dropna()\n",
    "    df.shape\n",
    "    return(df)"
   ]
  },
  {
   "cell_type": "code",
   "execution_count": 25,
   "metadata": {},
   "outputs": [],
   "source": [
    "Valid_data = Preprocessing(valid_data)"
   ]
  },
  {
   "cell_type": "code",
   "execution_count": 26,
   "metadata": {},
   "outputs": [],
   "source": [
    "x_valid = Valid_data[['Date', 'High', 'Low', 'Close', 'Adj Close', 'Volume']]\n",
    "y_vaild = Valid_data[['Open']]"
   ]
  },
  {
   "cell_type": "code",
   "execution_count": 27,
   "metadata": {},
   "outputs": [],
   "source": [
    "scaler = MinMaxScaler(feature_range=(0, 1))\n",
    "X_valid = scaler.fit_transform(x_valid)\n",
    "Y_valid = scaler.fit_transform(y_vaild)"
   ]
  },
  {
   "cell_type": "code",
   "execution_count": 28,
   "metadata": {},
   "outputs": [
    {
     "name": "stdout",
     "output_type": "stream",
     "text": [
      "(22, 6) (22, 1)\n"
     ]
    }
   ],
   "source": [
    "print(X_valid.shape,Y_valid.shape)"
   ]
  },
  {
   "cell_type": "code",
   "execution_count": 29,
   "metadata": {},
   "outputs": [
    {
     "data": {
      "text/plain": [
       "(22, 1)"
      ]
     },
     "execution_count": 29,
     "metadata": {},
     "output_type": "execute_result"
    }
   ],
   "source": [
    "pred_valid = model.predict(X_valid)\n",
    "pred_valid.shape"
   ]
  },
  {
   "cell_type": "markdown",
   "metadata": {},
   "source": [
    "# Plotting Results for Test"
   ]
  },
  {
   "cell_type": "code",
   "execution_count": 30,
   "metadata": {},
   "outputs": [
    {
     "data": {
      "image/png": "[encoded data removed]",
      "text/plain": [
       "<Figure size 432x288 with 1 Axes>"
      ]
     },
     "metadata": {
      "needs_background": "light"
     },
     "output_type": "display_data"
    }
   ],
   "source": [
    "plt.plot(pred_valid,  label='prediction' )\n",
    "plt.plot(Y_valid,  label='actual')\n",
    "plt.legend(loc='upper right')\n",
    "plt.show()"
   ]
  },
  {
   "cell_type": "code",
   "execution_count": 31,
   "metadata": {},
   "outputs": [
    {
     "data": {
      "image/png": "[encoded data removed]",
      "text/plain": [
       "<Figure size 432x288 with 1 Axes>"
      ]
     },
     "metadata": {
      "needs_background": "light"
     },
     "output_type": "display_data"
    }
   ],
   "source": [
    "plt.plot(scaler.inverse_transform(np.array(pred_valid).reshape(-1, 1)),label='prediction')\n",
    "plt.plot(scaler.inverse_transform(np.array(Y_valid).reshape(-1, 1)),label='actual')\n",
    "plt.legend(loc='upper right')\n",
    "plt.show()"
   ]
  },
  {
   "cell_type": "code",
   "execution_count": 32,
   "metadata": {},
   "outputs": [
    {
     "name": "stdout",
     "output_type": "stream",
     "text": [
      "MAE = [0.10257239]\n",
      "RMSE = 0.12246883448386295\n"
     ]
    }
   ],
   "source": [
    "MAE(pred_valid,Y_valid)\n",
    "rmse(pred_valid,Y_valid)"
   ]
  },
  {
   "cell_type": "code",
   "execution_count": null,
   "metadata": {},
   "outputs": [],
   "source": []
  },
  {
   "cell_type": "code",
   "execution_count": null,
   "metadata": {},
   "outputs": [],
   "source": []
  }
 ],
 "metadata": {
  "kernelspec": {
   "display_name": "Python 3",
   "language": "python",
   "name": "python3"
  },
  "language_info": {
   "codemirror_mode": {
    "name": "ipython",
    "version": 3
   },
   "file_extension": ".py",
   "mimetype": "text/x-python",
   "name": "python",
   "nbconvert_exporter": "python",
   "pygments_lexer": "ipython3",
   "version": "3.7.3"
  }
 },
 "nbformat": 4,
 "nbformat_minor": 2
}
